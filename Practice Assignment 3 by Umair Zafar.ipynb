{
 "cells": [
  {
   "cell_type": "markdown",
   "metadata": {},
   "source": [
    "# Q1:"
   ]
  },
  {
   "cell_type": "markdown",
   "metadata": {},
   "source": [
    "Think of at least three kinds of your favorite pizza. Store these pizza names in a list, and then use a for loop to print the name of each pizza."
   ]
  },
  {
   "cell_type": "code",
   "execution_count": 1,
   "metadata": {},
   "outputs": [
    {
     "name": "stdout",
     "output_type": "stream",
     "text": [
      "Malai Boti Pizza\n",
      "Chicken Tikka Pizza\n",
      "Cheese Pizza\n"
     ]
    }
   ],
   "source": [
    "list_of_pizza=['Malai Boti Pizza','Chicken Tikka Pizza','Cheese Pizza']\n",
    "\n",
    "for name in list_of_pizza:\n",
    "    print (name)"
   ]
  },
  {
   "cell_type": "markdown",
   "metadata": {},
   "source": [
    "# Q2"
   ]
  },
  {
   "cell_type": "markdown",
   "metadata": {},
   "source": [
    "Start with your last question , Modify your for loop to print a sentence using the name of the pizza\n",
    "instead of printing just the name of the pizza. For each pizza you should\n",
    "have one line of output containing a simple statement like I like pepperoni\n",
    "pizza."
   ]
  },
  {
   "cell_type": "code",
   "execution_count": 2,
   "metadata": {},
   "outputs": [
    {
     "name": "stdout",
     "output_type": "stream",
     "text": [
      "I like Malai Boti Pizza\n",
      "I like Chicken Tikka Pizza\n",
      "I like Cheese Pizza\n"
     ]
    }
   ],
   "source": [
    "def pizza(names):\n",
    "    for name in names:\n",
    "        x='I like'+' '+name\n",
    "        print(x)\n",
    "\n",
    "list_of_pizza=['Malai Boti Pizza','Chicken Tikka Pizza','Cheese Pizza']\n",
    "\n",
    "pizza(list_of_pizza)"
   ]
  },
  {
   "cell_type": "markdown",
   "metadata": {},
   "source": [
    "# Q3:"
   ]
  },
  {
   "cell_type": "markdown",
   "metadata": {},
   "source": [
    "Use a for loop to print the numbers from 1 to 20,\n",
    "inclusive."
   ]
  },
  {
   "cell_type": "code",
   "execution_count": 4,
   "metadata": {},
   "outputs": [
    {
     "name": "stdout",
     "output_type": "stream",
     "text": [
      "1 2 3 4 5 6 7 8 9 10 11 12 13 14 15 16 17 18 19 20 "
     ]
    }
   ],
   "source": [
    "for number in range(1,21):\n",
    "    print(number,end=' ')"
   ]
  },
  {
   "cell_type": "markdown",
   "metadata": {},
   "source": [
    "# Q4:"
   ]
  },
  {
   "cell_type": "markdown",
   "metadata": {},
   "source": [
    "Use the third argument of the range() function to make a list\n",
    "of the odd numbers from 1 to 20. Use a for loop to print each number."
   ]
  },
  {
   "cell_type": "code",
   "execution_count": 16,
   "metadata": {},
   "outputs": [
    {
     "name": "stdout",
     "output_type": "stream",
     "text": [
      "[1, 3, 5, 7, 9, 11, 13, 15, 17, 19]\n"
     ]
    }
   ],
   "source": [
    "odd_no=[]\n",
    "for number in range(1,20,2):\n",
    "    odd_no.append(number)\n",
    "print(odd_no)"
   ]
  },
  {
   "cell_type": "markdown",
   "metadata": {},
   "source": [
    "# Q5:"
   ]
  },
  {
   "cell_type": "markdown",
   "metadata": {},
   "source": [
    "Make a list of the multiples of 3 from 3 to 30. Use a for loop to\n",
    "print the numbers in your list."
   ]
  },
  {
   "cell_type": "code",
   "execution_count": 17,
   "metadata": {},
   "outputs": [
    {
     "name": "stdout",
     "output_type": "stream",
     "text": [
      "[3, 6, 9, 12, 15, 18, 21, 24, 27, 30]\n"
     ]
    }
   ],
   "source": [
    "mutiple_of_3=[]\n",
    "for y in range (1,11):\n",
    "    x=3*y\n",
    "    mutiple_of_3.append(x)\n",
    "print(mutiple_of_3)"
   ]
  },
  {
   "cell_type": "markdown",
   "metadata": {},
   "source": [
    "# Q6:"
   ]
  },
  {
   "cell_type": "markdown",
   "metadata": {},
   "source": [
    "A number raised to the third power is called a cube. For example,\n",
    "the cube of 2 is written as 2**3 in Python. Make a list of the first 10 cubes (that\n",
    "is, the cube of each integer from 1 through 10), and use a for loop to print out\n",
    "the value of each cube"
   ]
  },
  {
   "cell_type": "code",
   "execution_count": 20,
   "metadata": {},
   "outputs": [
    {
     "name": "stdout",
     "output_type": "stream",
     "text": [
      "[1, 8, 27, 64, 125, 216, 343, 512, 729, 1000]\n"
     ]
    }
   ],
   "source": [
    "cube_of_first_ten_no=[]\n",
    "for y in range (1,11):\n",
    "    x=y**3\n",
    "    cube_of_first_ten_no.append(x)\n",
    "print(cube_of_first_ten_no)"
   ]
  },
  {
   "cell_type": "markdown",
   "metadata": {},
   "source": [
    "# Q7:"
   ]
  },
  {
   "cell_type": "markdown",
   "metadata": {},
   "source": [
    "###### Make a python program that conatains your nine favourite dishes in a list called foods.\n",
    "\n",
    "###### Print the message, The first three items in the list are:. \n",
    "###### Then use a slice to print the first three items from that program’s list.\n",
    "\n",
    "###### Print the message, Three items from the middle of the list are:\n",
    "###### Use a slice to print three items from the middle of the list.\n",
    "\n",
    "###### Print the message, The last three items in the list are:\n",
    "###### Use a slice to print the last three items in the list."
   ]
  },
  {
   "cell_type": "code",
   "execution_count": 1,
   "metadata": {},
   "outputs": [],
   "source": [
    "food=['Biryani','Handi','Karahi','Pizza','Fish','Zinger','Malai Boti','Chicken Fried Rice','Club Sandwich']"
   ]
  },
  {
   "cell_type": "code",
   "execution_count": 2,
   "metadata": {},
   "outputs": [
    {
     "name": "stdout",
     "output_type": "stream",
     "text": [
      "The first three items in the list are: ['Biryani', 'Handi', 'Karahi']\n"
     ]
    }
   ],
   "source": [
    "x=food[0:3]\n",
    "print ('The first three items in the list are:',x)"
   ]
  },
  {
   "cell_type": "code",
   "execution_count": 3,
   "metadata": {},
   "outputs": [
    {
     "name": "stdout",
     "output_type": "stream",
     "text": [
      "Three items from the middle of the list are: ['Pizza', 'Fish', 'Zinger']\n"
     ]
    }
   ],
   "source": [
    "y=food[3:6]\n",
    "print ('Three items from the middle of the list are:',y)"
   ]
  },
  {
   "cell_type": "code",
   "execution_count": 4,
   "metadata": {},
   "outputs": [
    {
     "name": "stdout",
     "output_type": "stream",
     "text": [
      " The last three items in the list are: ['Malai Boti', 'Chicken Fried Rice', 'Club Sandwich']\n"
     ]
    }
   ],
   "source": [
    "z=food[6:9]\n",
    "print(' The last three items in the list are:',z)"
   ]
  },
  {
   "cell_type": "markdown",
   "metadata": {},
   "source": [
    "# Q8:"
   ]
  },
  {
   "cell_type": "markdown",
   "metadata": {},
   "source": [
    "### Start with your program from your last Question8.\n",
    "###### Make a copy of the list of foods, and call it friend_foods.\n",
    "###### Then, do the following:\n",
    "######    Add a new dish to the original list.\n",
    "######    Add a different dish to the list friend_foodss.\n",
    "######    Prove that you have two separate lists. \n",
    "###### Print the message, My favorite pizzas are: and then use a for loop to print the first list. \n",
    "###### Print the message,\n",
    "###### My friend’s favorite foods are:, and then use a for loop to print the second list.\n",
    "    \n",
    "##### NOTE: Make sure each new dish is stored in the appropriate list."
   ]
  },
  {
   "cell_type": "code",
   "execution_count": 6,
   "metadata": {},
   "outputs": [
    {
     "name": "stdout",
     "output_type": "stream",
     "text": [
      "My favourite dishes are:\n",
      "\n",
      "Biryani\n",
      "Handi\n",
      "Karahi\n",
      "Pizza\n",
      "Fish\n",
      "Zinger\n",
      "Malai Boti\n",
      "Chicken Fried Rice\n",
      "Club Sandwich\n",
      "Chapli Kabab\n",
      "-----------------\n",
      "My friend favourite dishes are:\n",
      "\n",
      "Biryani\n",
      "Handi\n",
      "Karahi\n",
      "Pizza\n",
      "Fish\n",
      "Zinger\n",
      "Malai Boti\n",
      "Chicken Fried Rice\n",
      "Club Sandwich\n",
      "Shawarma\n"
     ]
    }
   ],
   "source": [
    "foods=[\"Biryani\",\"Handi\",\"Karahi\",\"Pizza\",\"Fish\",\"Zinger\",\"Malai Boti\",\"Chicken Fried Rice\",\"Club Sandwich\"]\n",
    "friend_foods=foods.copy()\n",
    "\n",
    "foods.append(\"Chapli Kabab\")\n",
    "friend_foods.append('Shawarma')\n",
    "\n",
    "print('My favourite dishes are:\\n')\n",
    "for food in foods:\n",
    "    print(food)\n",
    "    \n",
    "print('-----------------')\n",
    "    \n",
    "print('My friend favourite dishes are:\\n')\n",
    "for food in friend_foods:\n",
    "    print(food)\n"
   ]
  },
  {
   "cell_type": "markdown",
   "metadata": {},
   "source": [
    "# Q9:"
   ]
  },
  {
   "cell_type": "markdown",
   "metadata": {},
   "source": [
    "Take a user input from console line.Store it in a variable called Alien_color.\n",
    "\n",
    "If the alien’s color is red, print a statement that the player just earned 5 points for shooting the alien.\n",
    "\n",
    "If the alien’s color isn’t green, print a statement that the player just earned 10 points.\n",
    "\n",
    "If the alien's color isn't red or green , print a statment :, Alien is no more....."
   ]
  },
  {
   "cell_type": "code",
   "execution_count": 11,
   "metadata": {},
   "outputs": [
    {
     "name": "stdout",
     "output_type": "stream",
     "text": [
      "enter your colour:red\n",
      "The player just earned 5 points for shooting the alien.\n"
     ]
    }
   ],
   "source": [
    "Alien_color=input ('enter your colour:')\n",
    "if Alien_color=='red':\n",
    "    print('The player just earned 5 points for shooting the alien.')\n",
    "elif Alien_color!='green':\n",
    "    print('The player just earned 10 points')\n",
    "else:\n",
    "    print('Alien is no more.....')\n",
    "\n",
    "\n",
    "\n",
    "    "
   ]
  },
  {
   "cell_type": "code",
   "execution_count": 12,
   "metadata": {},
   "outputs": [
    {
     "name": "stdout",
     "output_type": "stream",
     "text": [
      "enter your colour: black\n",
      "The player just earned 10 points\n"
     ]
    }
   ],
   "source": [
    "Alien_color=input ('enter your colour: ')\n",
    "if Alien_color=='red':\n",
    "    print('The player just earned 5 points for shooting the alien.')\n",
    "elif Alien_color!='green':\n",
    "    print('The player just earned 10 points')\n",
    "else:\n",
    "    print('Alien is no more.....')\n"
   ]
  },
  {
   "cell_type": "code",
   "execution_count": 17,
   "metadata": {},
   "outputs": [
    {
     "name": "stdout",
     "output_type": "stream",
     "text": [
      "enter your colour: green\n",
      "Alien is no more...\n"
     ]
    }
   ],
   "source": [
    "Alien_color=input ('enter your colour: ')\n",
    "if Alien_color=='red':\n",
    "    print('The player just earned 5 points for shooting the alien.')\n",
    "elif Alien_color!='green':\n",
    "    print('The player just earned 10 points')\n",
    "else:\n",
    "    print('Alien is no more...')\n"
   ]
  },
  {
   "cell_type": "markdown",
   "metadata": {},
   "source": [
    "# Q10:"
   ]
  },
  {
   "cell_type": "markdown",
   "metadata": {},
   "source": [
    "Write an if-elif-else chain that determines a person’s\n",
    "stage of life. Set a value for the variable age, and then:\n",
    "    \n",
    "•\t If the person is less than 2 years old, print a message that the person is a baby.\n",
    "\n",
    "•\t If the person is at least 2 years old but less than 4, print a message that the person is a toddler.\n",
    "\n",
    "•\t If the person is at least 4 years old but less than 13, print a message that the person is a kid.\n",
    "\n",
    "•\t If the person is at least 13 years old but less than 20, print a message that the person is a teenager.\n",
    "\n",
    "•\t If the person is at least 20 years old but less than 65, print a message that the person is an adult.\n",
    "\n",
    "•\t If the person is age 65 or older, print a message that the person is an elder."
   ]
  },
  {
   "cell_type": "code",
   "execution_count": 18,
   "metadata": {},
   "outputs": [
    {
     "name": "stdout",
     "output_type": "stream",
     "text": [
      "Enter your age:1\n",
      "The person is a baby.\n"
     ]
    }
   ],
   "source": [
    "age=int(input('Enter your age:'))\n",
    "if age<2:\n",
    "    print('The person is a baby.')\n",
    "elif age<=2 or age<4:\n",
    "    print('The person is a toddler.')\n",
    "elif age<=4 or age<13:\n",
    "    print('The person is a kid.')\n",
    "elif age<=13 or age<20:\n",
    "    print('The person is a teenager.')\n",
    "elif age<=20 or age<65:\n",
    "    print('The person is an adult.')\n",
    "else:\n",
    "    print('The person is an elder.')"
   ]
  },
  {
   "cell_type": "code",
   "execution_count": 1,
   "metadata": {},
   "outputs": [
    {
     "name": "stdout",
     "output_type": "stream",
     "text": [
      "Enter your age:2\n",
      "The person is a toddler.\n"
     ]
    }
   ],
   "source": [
    "age=int(input('Enter your age:'))\n",
    "if age<2:\n",
    "    print('The person is a baby.')\n",
    "elif age<=2 or age<4:\n",
    "    print('The person is a toddler.')\n",
    "elif age<=4 or age<13:\n",
    "    print('The person is a kid.')\n",
    "elif age<=13 or age<20:\n",
    "    print('The person is a teenager.')\n",
    "elif age<=20 or age<65:\n",
    "    print('The person is an adult.')\n",
    "else:\n",
    "    print('The person is an elder.')"
   ]
  },
  {
   "cell_type": "code",
   "execution_count": 2,
   "metadata": {},
   "outputs": [
    {
     "name": "stdout",
     "output_type": "stream",
     "text": [
      "Enter your age:7\n",
      "The person is a kid.\n"
     ]
    }
   ],
   "source": [
    "age=int(input('Enter your age:'))\n",
    "if age<2:\n",
    "    print('The person is a baby.')\n",
    "elif age<=2 or age<4:\n",
    "    print('The person is a toddler.')\n",
    "elif age<=4 or age<13:\n",
    "    print('The person is a kid.')\n",
    "elif age<=13 or age<20:\n",
    "    print('The person is a teenager.')\n",
    "elif age<=20 or age<65:\n",
    "    print('The person is an adult.')\n",
    "else:\n",
    "    print('The person is an elder.')"
   ]
  },
  {
   "cell_type": "code",
   "execution_count": 4,
   "metadata": {},
   "outputs": [
    {
     "name": "stdout",
     "output_type": "stream",
     "text": [
      "Enter your age:17\n",
      "The person is a teenager.\n"
     ]
    }
   ],
   "source": [
    "age=int(input('Enter your age:'))\n",
    "if age<2:\n",
    "    print('The person is a baby.')\n",
    "elif age<=2 or age<4:\n",
    "    print('The person is a toddler.')\n",
    "elif age<=4 or age<13:\n",
    "    print('The person is a kid.')\n",
    "elif age<=13 or age<20:\n",
    "    print('The person is a teenager.')\n",
    "elif age<=20 or age<65:\n",
    "    print('The person is an adult.')\n",
    "else:\n",
    "    print('The person is an elder.')"
   ]
  },
  {
   "cell_type": "code",
   "execution_count": 5,
   "metadata": {},
   "outputs": [
    {
     "name": "stdout",
     "output_type": "stream",
     "text": [
      "Enter your age:30\n",
      "The person is an adult.\n"
     ]
    }
   ],
   "source": [
    "age=int(input('Enter your age:'))\n",
    "if age<2:\n",
    "    print('The person is a baby.')\n",
    "elif age<=2 or age<4:\n",
    "    print('The person is a toddler.')\n",
    "elif age<=4 or age<13:\n",
    "    print('The person is a kid.')\n",
    "elif age<=13 or age<20:\n",
    "    print('The person is a teenager.')\n",
    "elif age<=20 or age<65:\n",
    "    print('The person is an adult.')\n",
    "else:\n",
    "    print('The person is an elder.')"
   ]
  },
  {
   "cell_type": "code",
   "execution_count": 8,
   "metadata": {},
   "outputs": [
    {
     "name": "stdout",
     "output_type": "stream",
     "text": [
      "Enter your age:70\n",
      "The person is an elder.\n"
     ]
    }
   ],
   "source": [
    "age=int(input('Enter your age:'))\n",
    "if age<2:\n",
    "    print('The person is a baby.')\n",
    "elif age<=2 or age<4:\n",
    "    print('The person is a toddler.')\n",
    "elif age<=4 or age<13:\n",
    "    print('The person is a kid.')\n",
    "elif age<=13 or age<20:\n",
    "    print('The person is a teenager.')\n",
    "elif age<=20 or age<65:\n",
    "    print('The person is an adult.')\n",
    "else:\n",
    "    print('The person is an elder.')"
   ]
  },
  {
   "cell_type": "markdown",
   "metadata": {},
   "source": [
    "# Q11:"
   ]
  },
  {
   "cell_type": "markdown",
   "metadata": {},
   "source": [
    "Do the following to create a program that simulates how websites ensure that everyone has a unique username.\n",
    "\n",
    "•\t Make a list of five or more usernames called current_users.\n",
    "\n",
    "•\t Make another list of five usernames called new_users. \n",
    "Make sure one or two of the new usernames are also in the current_users list.\n",
    "\n",
    "•\t Loop through the new_users list to see if each new username has already been used. \n",
    "If it has, print a message that the person will need to enter a new username. \n",
    "If a username has not been used, print a message saying that the username is available.\n",
    "\n",
    "•\t Make sure your comparison is case insensitive. If 'John' has been used, 'JOHN' should not be accepted."
   ]
  },
  {
   "cell_type": "code",
   "execution_count": 14,
   "metadata": {},
   "outputs": [],
   "source": [
    "current_users =[\"umair\", \"ihtisham\",\"muaaz\",\"ali\", \"saad\"]"
   ]
  },
  {
   "cell_type": "code",
   "execution_count": 15,
   "metadata": {},
   "outputs": [],
   "source": [
    "new_users =[\"zeeshan\", \"ali\", \"waqas\",\"asad\"]"
   ]
  },
  {
   "cell_type": "code",
   "execution_count": 16,
   "metadata": {},
   "outputs": [
    {
     "name": "stdout",
     "output_type": "stream",
     "text": [
      "zeeshan Username is avaliable.\n",
      "ali username is not avaliable, Kindly change your username.\n",
      "waqas Username is avaliable.\n",
      "asad Username is avaliable.\n"
     ]
    }
   ],
   "source": [
    "for i in new_users:\n",
    "    if i in current_users:\n",
    "        print(f\"{i} username is not avaliable, Kindly change your username.\")\n",
    "    else:\n",
    "        print(f\"{i} Username is avaliable.\")"
   ]
  },
  {
   "cell_type": "markdown",
   "metadata": {},
   "source": [
    "# Q12:"
   ]
  },
  {
   "cell_type": "markdown",
   "metadata": {},
   "source": [
    "Use a dictionary to store information about a person you know.\n",
    "Store their first name, last name, age, and the city in which they live. \n",
    "You should have keys such as first_name, last_name, age, and city. \n",
    "Print each piece of information stored in your dictionary"
   ]
  },
  {
   "cell_type": "code",
   "execution_count": 2,
   "metadata": {},
   "outputs": [
    {
     "name": "stdout",
     "output_type": "stream",
     "text": [
      "first_name: Muhammad\n",
      "last_name: Ali\n",
      "age: 24\n",
      "city: Sialkot\n"
     ]
    }
   ],
   "source": [
    "information={'first_name:':'Muhammad','last_name:':'Ali','age:':'24','city:':'Sialkot'}\n",
    "\n",
    "for k,v in information.items():\n",
    "    print (k,v)"
   ]
  },
  {
   "cell_type": "markdown",
   "metadata": {},
   "source": [
    "# Q13:"
   ]
  },
  {
   "cell_type": "markdown",
   "metadata": {},
   "source": [
    "Starts with your last question 12 , loop through the dictionary’s keys and values.\n",
    "When you’re sure that your loop works, add five more Python terms to your\n",
    "dictionary . When you run your program again, these new words and meanings\n",
    "should automatically be included in the output."
   ]
  },
  {
   "cell_type": "code",
   "execution_count": 3,
   "metadata": {},
   "outputs": [
    {
     "name": "stdout",
     "output_type": "stream",
     "text": [
      "first_name: Muhammad\n",
      "last_name: Ali\n",
      "age: 24\n",
      "city: Sialkot\n"
     ]
    }
   ],
   "source": [
    "information={'first_name:':'Muhammad','last_name:':'Ali','age:':'24','city:':'Sialkot'}\n",
    "\n",
    "for k,v in information.items():\n",
    "    print (k,v)\n"
   ]
  },
  {
   "cell_type": "code",
   "execution_count": 4,
   "metadata": {},
   "outputs": [
    {
     "name": "stdout",
     "output_type": "stream",
     "text": [
      "first_name: Muhammad\n",
      "last_name: Ali\n",
      "age: 24\n",
      "city: Sialkot\n",
      "Print: Print given statement\n",
      "variabes: Store single value\n",
      "list: store more than one value\n",
      "and,or,not: logical operators\n",
      "while,for: loop used for iteration\n"
     ]
    }
   ],
   "source": [
    "information['Print:']='Print given statement'\n",
    "information['variabes:']='Store single value'\n",
    "information['list:']='store more than one value'\n",
    "information['and,or,not:']='logical operators'\n",
    "information['while,for:']='loop used for iteration'\n",
    "\n",
    "for k,v in information.items():\n",
    "    print (k,v)"
   ]
  },
  {
   "cell_type": "markdown",
   "metadata": {},
   "source": [
    "# Q14:"
   ]
  },
  {
   "cell_type": "markdown",
   "metadata": {},
   "source": [
    "Make a dictionary containing three major rivers and the country\n",
    "each river runs through. One key-value pair might be 'nile': 'egypt'.\n",
    "    \n",
    "    \n",
    "•\t Use a loop to print a sentence about each river, such as The Nile runs\n",
    "through Egypt.\n",
    "\n",
    "NOTE: use upper case through keys and values."
   ]
  },
  {
   "cell_type": "code",
   "execution_count": 5,
   "metadata": {},
   "outputs": [
    {
     "name": "stdout",
     "output_type": "stream",
     "text": [
      "The INDUS runs through PAKISTAN\n",
      "The NILE runs through EGYPT\n",
      "The AMAZON runs through AMERICA\n"
     ]
    }
   ],
   "source": [
    "a={'Indus':'Pakistan','Nile':'Egypt','Amazon':'America'}\n",
    "for k,v in a.items():\n",
    "    print('The',k.upper(),'runs through',v.upper())"
   ]
  },
  {
   "cell_type": "markdown",
   "metadata": {},
   "source": [
    "# Q15:"
   ]
  },
  {
   "cell_type": "markdown",
   "metadata": {},
   "source": [
    "Make several dictionaries, where the name of each dictionary is the\n",
    "name of a pet. In each dictionary, include the kind of animal and the owner’s\n",
    "name. Store these dictionaries in a list called pets. Next, loop through your list\n",
    "and as you do print everything you know about each pet."
   ]
  },
  {
   "cell_type": "code",
   "execution_count": 7,
   "metadata": {},
   "outputs": [
    {
     "name": "stdout",
     "output_type": "stream",
     "text": [
      "Kind: Mammal\n",
      "Owner name: Umair\n",
      "\n",
      "Kind: Bird\n",
      "Owner name: Ali\n",
      "\n",
      "Kind: Mammal\n",
      "Owner name: Muaaz\n",
      "\n"
     ]
    }
   ],
   "source": [
    "cat={'Kind:':'Mammal','Owner name:':'Umair'}\n",
    "parrot={'Kind:':'Bird','Owner name:':'Ali'}\n",
    "lion={'Kind:':'Mammal','Owner name:':'Muaaz'}\n",
    "\n",
    "pets=[cat,parrot,lion]\n",
    "\n",
    "for pet in pets:\n",
    "    for k,v in pet.items():\n",
    "        print(k,v)\n",
    "    print()"
   ]
  }
 ],
 "metadata": {
  "kernelspec": {
   "display_name": "Python 3",
   "language": "python",
   "name": "python3"
  },
  "language_info": {
   "codemirror_mode": {
    "name": "ipython",
    "version": 3
   },
   "file_extension": ".py",
   "mimetype": "text/x-python",
   "name": "python",
   "nbconvert_exporter": "python",
   "pygments_lexer": "ipython3",
   "version": "3.7.3"
  }
 },
 "nbformat": 4,
 "nbformat_minor": 2
}
